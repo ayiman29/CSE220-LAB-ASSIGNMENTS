{
 "cells": [
  {
   "cell_type": "markdown",
   "metadata": {
    "id": "4LYYhNdvi03h"
   },
   "source": [
    "\n",
    "\n",
    "1.   Be careful in which question you are required to change the given Linked list and where you are required to create a new one\n",
    "2.   Be careful of the first node and the last node [aka corner cases]\n",
    "3.   Do not use any other data structure other than Linked List\n",
    "\n"
   ]
  },
  {
   "cell_type": "markdown",
   "metadata": {
    "id": "v8m-0O9Pi9ET"
   },
   "source": [
    "**You must run this cell to install dependency**"
   ]
  },
  {
   "cell_type": "code",
   "execution_count": 2,
   "metadata": {
    "colab": {
     "base_uri": "https://localhost:8080/"
    },
    "id": "3vZHyMlVi0cs",
    "outputId": "fac3fe17-f4ef-4e78-b918-52e2e4c57d30"
   },
   "outputs": [
    {
     "name": "stdout",
     "output_type": "stream",
     "text": [
      "Defaulting to user installation because normal site-packages is not writeable\n",
      "Requirement already satisfied: fhm-unittest in c:\\users\\user\\appdata\\roaming\\python\\python312\\site-packages (1.0.1)\n"
     ]
    },
    {
     "name": "stderr",
     "output_type": "stream",
     "text": [
      "\n",
      "[notice] A new release of pip is available: 23.2.1 -> 24.3.1\n",
      "[notice] To update, run: python.exe -m pip install --upgrade pip\n"
     ]
    },
    {
     "name": "stdout",
     "output_type": "stream",
     "text": [
      "Defaulting to user installation because normal site-packages is not writeable\n",
      "Requirement already satisfied: fuzzywuzzy in c:\\users\\user\\appdata\\roaming\\python\\python312\\site-packages (0.18.0)\n"
     ]
    },
    {
     "name": "stderr",
     "output_type": "stream",
     "text": [
      "\n",
      "[notice] A new release of pip is available: 23.2.1 -> 24.3.1\n",
      "[notice] To update, run: python.exe -m pip install --upgrade pip\n"
     ]
    }
   ],
   "source": [
    "! pip3 install fhm-unittest\n",
    "! pip3 install fuzzywuzzy\n",
    "import fhm_unittest as unittest\n",
    "import numpy as np"
   ]
  },
  {
   "cell_type": "markdown",
   "metadata": {
    "id": "b7eLAb26jNlR"
   },
   "source": [
    "**You must Run this cell for your driver code to execute successfully**"
   ]
  },
  {
   "cell_type": "code",
   "execution_count": 4,
   "metadata": {
    "id": "Yvtwdm02iNbm"
   },
   "outputs": [],
   "source": [
    "#Run this cell\n",
    "class Node:\n",
    "  def __init__(self,elem,next = None):\n",
    "    self.elem,self.next = elem,next\n",
    "\n",
    "def createList(arr):\n",
    "  head = Node(arr[0])\n",
    "  tail = head\n",
    "  for i in range(1,len(arr)):\n",
    "    newNode = Node(arr[i])\n",
    "    tail.next = newNode\n",
    "    tail = newNode\n",
    "  return head\n",
    "\n",
    "def printLinkedList(head):\n",
    "  temp = head\n",
    "  while temp != None:\n",
    "    if temp.next != None:\n",
    "      print(temp.elem, end = '-->')\n",
    "    else:\n",
    "      print(temp.elem)\n",
    "    temp = temp.next\n",
    "  print()\n"
   ]
  },
  {
   "cell_type": "markdown",
   "metadata": {
    "id": "YcFhPJxPjcfl"
   },
   "source": [
    "Task 1: Building Blocks"
   ]
  },
  {
   "cell_type": "code",
   "execution_count": 5,
   "metadata": {
    "colab": {
     "base_uri": "https://localhost:8080/"
    },
    "id": "QU2I53-4jWSo",
    "outputId": "5a350285-5802-4f95-fc0a-9e6bb869bdaf"
   },
   "outputs": [
    {
     "name": "stdout",
     "output_type": "stream",
     "text": [
      "==============Test Case 1=============\n",
      "Building 1:  Red-->Green-->Yellow-->Red-->Blue-->Green\n",
      "\n",
      "Building 2:  Red-->Green-->Yellow-->Red-->Blue-->Green\n",
      "\n",
      "Similar\n",
      "Accepted\n",
      "\n",
      "==============Test Case 2=============\n",
      "Building 1:  Red-->Green-->Yellow-->Red-->Yellow-->Green\n",
      "\n",
      "Building 2:  Red-->Green-->Yellow-->Red-->Blue-->Green\n",
      "\n",
      "Not Similar\n",
      "Accepted\n",
      "\n",
      "==============Test Case 3=============\n",
      "Building 1:  Red-->Green-->Yellow-->Red-->Blue-->Green\n",
      "\n",
      "Building 2:  Red-->Green-->Yellow-->Red-->Blue-->Green-->Blue\n",
      "\n",
      "Not Similar\n",
      "Accepted\n",
      "\n",
      "==============Test Case 4=============\n",
      "Building 1:  Red-->Green-->Yellow-->Red-->Blue-->Green-->Blue\n",
      "\n",
      "Building 2:  Red-->Green-->Yellow-->Red-->Blue-->Green\n",
      "\n",
      "Not Similar\n",
      "Accepted\n",
      "\n"
     ]
    }
   ],
   "source": [
    "def check_similar(building_1, building_2):\n",
    "  m = building_1\n",
    "  n = building_2\n",
    "  while m.next != None or n.next != None:\n",
    "      if n.next == None or m.next == None:\n",
    "          return \"Not Similar\"\n",
    "      if m.elem != n.elem:\n",
    "          return \"Not Similar\"\n",
    "      m = m.next\n",
    "      n = n.next\n",
    "\n",
    "  return \"Similar\"\n",
    "\n",
    "\n",
    "\n",
    "\n",
    "print('==============Test Case 1=============')\n",
    "building_1 = createList(np.array(['Red', 'Green', 'Yellow', 'Red', 'Blue', 'Green']))\n",
    "building_2 = createList(np.array(['Red', 'Green', 'Yellow', 'Red', 'Blue', 'Green']))\n",
    "print('Building 1: ', end = ' ')\n",
    "printLinkedList(building_1)\n",
    "print('Building 2: ', end = ' ')\n",
    "printLinkedList(building_2)\n",
    "returned_value = check_similar(building_1, building_2)\n",
    "print(returned_value) #This should print 'Similar'\n",
    "unittest.output_test(returned_value, 'Similar')\n",
    "print()\n",
    "\n",
    "print('==============Test Case 2=============')\n",
    "building_1 = createList(np.array(['Red', 'Green', 'Yellow', 'Red', 'Yellow', 'Green']))\n",
    "building_2 = createList(np.array(['Red', 'Green', 'Yellow', 'Red', 'Blue', 'Green']))\n",
    "print('Building 1: ', end = ' ')\n",
    "printLinkedList(building_1)\n",
    "print('Building 2: ', end = ' ')\n",
    "printLinkedList(building_2)\n",
    "returned_value = check_similar(building_1, building_2)\n",
    "print(returned_value) #This should print 'Not Similar'\n",
    "unittest.output_test(returned_value, 'Not Similar')\n",
    "print()\n",
    "\n",
    "print('==============Test Case 3=============')\n",
    "building_1 = createList(np.array(['Red', 'Green', 'Yellow', 'Red', 'Blue', 'Green']))\n",
    "building_2 = createList(np.array(['Red', 'Green', 'Yellow', 'Red', 'Blue', 'Green', 'Blue']))\n",
    "print('Building 1: ', end = ' ')\n",
    "printLinkedList(building_1)\n",
    "print('Building 2: ', end = ' ')\n",
    "printLinkedList(building_2)\n",
    "returned_value = check_similar(building_1, building_2)\n",
    "print(returned_value) #This should print 'Not Similar'\n",
    "unittest.output_test(returned_value, 'Not Similar')\n",
    "print()\n",
    "\n",
    "print('==============Test Case 4=============')\n",
    "building_1 = createList(np.array(['Red', 'Green', 'Yellow', 'Red', 'Blue', 'Green', 'Blue']))\n",
    "building_2 = createList(np.array(['Red', 'Green', 'Yellow', 'Red', 'Blue', 'Green']))\n",
    "print('Building 1: ', end = ' ')\n",
    "printLinkedList(building_1)\n",
    "print('Building 2: ', end = ' ')\n",
    "printLinkedList(building_2)\n",
    "returned_value = check_similar(building_1, building_2)\n",
    "print(returned_value) #This should print 'Not Similar'\n",
    "unittest.output_test(returned_value, 'Not Similar')\n",
    "print()"
   ]
  },
  {
   "cell_type": "markdown",
   "metadata": {
    "id": "KXf5NwHJjrga"
   },
   "source": [
    "Task 2: Remove Compartment"
   ]
  },
  {
   "cell_type": "code",
   "execution_count": 6,
   "metadata": {
    "colab": {
     "base_uri": "https://localhost:8080/"
    },
    "id": "RZFDGPlGkC9M",
    "outputId": "72d1a2d6-c798-47f9-a56f-bbfc38d20d89"
   },
   "outputs": [
    {
     "name": "stdout",
     "output_type": "stream",
     "text": [
      "==============Test Case 1=============\n",
      "Original Compartment Sequence:  10-->15-->34-->41-->56-->72\n",
      "\n",
      "Changed Compartment Sequence:  10-->15-->34-->41-->72\n",
      "\n",
      "\n",
      "==============Test Case 2=============\n",
      "Original Compartment Sequence:  10-->15-->34-->41-->56-->72\n",
      "\n",
      "Changed Compartment Sequence:  10-->15-->34-->41-->56-->72\n",
      "\n",
      "\n",
      "==============Test Case 3=============\n",
      "Original Compartment Sequence:  10-->15-->34-->41-->56-->72\n",
      "\n",
      "Changed Compartment Sequence:  15-->34-->41-->56-->72\n",
      "\n",
      "\n"
     ]
    }
   ],
   "source": [
    "def remove_compartment(head,n):\n",
    "  length = 1\n",
    "  m = head\n",
    "  while m.next != None:\n",
    "    length += 1\n",
    "    m = m.next\n",
    "  idx = length - n\n",
    "  x = 0\n",
    "  y = head\n",
    "  while y.next != None:\n",
    "    if idx == 0:\n",
    "      temp = head\n",
    "      head = temp.next\n",
    "      temp = None\n",
    "      break\n",
    "    if x == idx - 1:\n",
    "      temp = y.next\n",
    "      y.next = temp.next\n",
    "      temp = None\n",
    "      break\n",
    "    y = y.next\n",
    "    x += 1\n",
    "  return head\n",
    "\n",
    "\n",
    "print('==============Test Case 1=============')\n",
    "head = createList(np.array([10,15,34,41,56,72]))\n",
    "print('Original Compartment Sequence: ', end = ' ')\n",
    "printLinkedList(head)\n",
    "head = remove_compartment(head,2)\n",
    "print('Changed Compartment Sequence: ', end = ' ')\n",
    "printLinkedList(head) #This should print 10-->15-->34-->41-->72\n",
    "print()\n",
    "print('==============Test Case 2=============')\n",
    "head = createList(np.array([10,15,34,41,56,72]))\n",
    "print('Original Compartment Sequence: ', end = ' ')\n",
    "printLinkedList(head)\n",
    "head = remove_compartment(head,7)\n",
    "print('Changed Compartment Sequence: ', end = ' ')\n",
    "printLinkedList(head) #This should print 10-->15-->34-->41-->56-->72\n",
    "print()\n",
    "print('==============Test Case 3=============')\n",
    "head = createList(np.array([10,15,34,41,56,72]))\n",
    "print('Original Compartment Sequence: ', end = ' ')\n",
    "printLinkedList(head)\n",
    "head = remove_compartment(head,6)\n",
    "print('Changed Compartment Sequence: ', end = ' ')\n",
    "printLinkedList(head) #This should print 15-->34-->41-->56-->72\n",
    "print()"
   ]
  },
  {
   "cell_type": "markdown",
   "metadata": {
    "id": "1ru-53ewkgET"
   },
   "source": [
    "Task 3: Assemble Conga Line"
   ]
  },
  {
   "cell_type": "code",
   "execution_count": 32,
   "metadata": {
    "colab": {
     "base_uri": "https://localhost:8080/"
    },
    "id": "el2Iqez0kmfD",
    "outputId": "1a991bd9-0537-43db-e671-7a4906b21956"
   },
   "outputs": [
    {
     "name": "stdout",
     "output_type": "stream",
     "text": [
      "==============Test Case 1=============\n",
      "Original Conga Line:  10-->15-->34-->41-->56-->72\n",
      "\n",
      "True\n",
      "Accepted\n",
      "\n",
      "==============Test Case 2=============\n",
      "Original Conga Line:  10-->15-->44-->41-->56-->72\n",
      "\n",
      "False\n",
      "Accepted\n",
      "\n"
     ]
    }
   ],
   "source": [
    "def assemble_conga_line(conga_line):\n",
    "  n = conga_line\n",
    "  while n.next != None:\n",
    "    if n == conga_line:\n",
    "        temp = n.elem\n",
    "    else:\n",
    "        if n.elem - temp < 0:\n",
    "            return False\n",
    "        temp = n.elem\n",
    "    n = n.next\n",
    "  return True\n",
    "\n",
    "\n",
    "print('==============Test Case 1=============')\n",
    "conga_line = createList(np.array([10,15,34,41,56,72]))\n",
    "print('Original Conga Line: ', end = ' ')\n",
    "printLinkedList(conga_line)\n",
    "returned_value = assemble_conga_line(conga_line)\n",
    "print(returned_value) #This should print True\n",
    "unittest.output_test(returned_value, True)\n",
    "print()\n",
    "print('==============Test Case 2=============')\n",
    "conga_line = createList(np.array([10,15,44,41,56,72]))\n",
    "print('Original Conga Line: ', end = ' ')\n",
    "printLinkedList(conga_line)\n",
    "returned_value = assemble_conga_line(conga_line)\n",
    "print(returned_value) #This should print False\n",
    "unittest.output_test(returned_value, False)\n",
    "print()"
   ]
  },
  {
   "cell_type": "markdown",
   "metadata": {
    "id": "iD_ytSvbloPy"
   },
   "source": [
    "Task 4: Word Decoder"
   ]
  },
  {
   "cell_type": "code",
   "execution_count": 36,
   "metadata": {
    "colab": {
     "base_uri": "https://localhost:8080/"
    },
    "id": "PU6PxoNllxdf",
    "outputId": "397d4001-3ffd-43d7-9e7a-8424239c0bf2"
   },
   "outputs": [
    {
     "name": "stdout",
     "output_type": "stream",
     "text": [
      "==============Test Case 1=============\n",
      "Encoded Word:\n",
      "B-->M-->D-->T-->N-->O-->A-->P-->S-->C\n",
      "\n",
      "Decoded Word:\n",
      "None-->C-->A-->T\n",
      "\n",
      "==============Test Case 2=============\n",
      "Encoded Word:\n",
      "Z-->O-->T-->N-->X\n",
      "\n",
      "Decoded Word:\n",
      "None-->N\n",
      "\n"
     ]
    }
   ],
   "source": [
    "def word_Decoder(head):\n",
    "    head = head.next\n",
    "    temp = None\n",
    "    x = head\n",
    "\n",
    "    while x:\n",
    "        next_node = x.next\n",
    "        x.next = temp\n",
    "        temp = x\n",
    "        x = next_node\n",
    "\n",
    "    head_new = Node(None)\n",
    "    head_new.next = temp\n",
    "\n",
    "    length = 0\n",
    "    x = head_new\n",
    "    while x != None:\n",
    "      length += 1\n",
    "      x = x.next\n",
    "\n",
    "    x = head_new\n",
    "    idx = 0\n",
    "    modd = 13%length\n",
    "    while idx < length:\n",
    "      if (length - idx) % modd != 0 and idx != 0:\n",
    "        temp = x\n",
    "        perm.next = temp.next\n",
    "        temp = None\n",
    "      else:\n",
    "        perm = x\n",
    "      x = x.next\n",
    "      idx+= 1\n",
    "    return head_new\n",
    "\n",
    "#Driver Code\n",
    "print('==============Test Case 1=============')\n",
    "head = createList(np.array(['B', 'M', 'D', 'T', 'N', 'O', 'A', 'P', 'S', 'C']))\n",
    "print(\"Encoded Word:\")\n",
    "printLinkedList(head) #This should print B→M→D→T→N→O→A→P→S→C\n",
    "\n",
    "result = word_Decoder(head)\n",
    "print(\"Decoded Word:\")\n",
    "printLinkedList(result)    #This should print None→C→A→T\n",
    "\n",
    "print('==============Test Case 2=============')\n",
    "\n",
    "head = createList(np.array(['Z', 'O', 'T', 'N', 'X']))\n",
    "print(\"Encoded Word:\")\n",
    "printLinkedList(head) #This should print Z→O→T→N→X\n",
    "\n",
    "result = word_Decoder(head)\n",
    "print(\"Decoded Word:\")\n",
    "printLinkedList(result)    #This should print None→N\n",
    "\n"
   ]
  },
  {
   "cell_type": "markdown",
   "metadata": {
    "id": "KH4qPwI-nIN4"
   },
   "source": [
    "Task 5: Alternate Merge"
   ]
  },
  {
   "cell_type": "code",
   "execution_count": 38,
   "metadata": {
    "colab": {
     "base_uri": "https://localhost:8080/"
    },
    "id": "0D7bZtp1nMRI",
    "outputId": "fd28ce84-f16b-4508-e009-7c6a9d7d5446"
   },
   "outputs": [
    {
     "name": "stdout",
     "output_type": "stream",
     "text": [
      "==============Test Case 1=============\n",
      "Linked List 1:\n",
      "1-->2-->6-->8-->11\n",
      "\n",
      "Linked List 2:\n",
      "5-->7-->3-->9-->4\n",
      "\n",
      "Merged Linked List:\n",
      "1-->5-->2-->7-->6-->3-->8-->9-->11-->4\n",
      "\n",
      "==============Test Case 2=============\n",
      "Linked List 1:\n",
      "5-->3-->2-->-4\n",
      "\n",
      "Linked List 2:\n",
      "-4-->-6-->1\n",
      "\n",
      "Merged Linked List:\n",
      "5-->-4-->3-->-6-->2-->1-->-4\n",
      "\n",
      "==============Test Case 3=============\n",
      "Linked List 1:\n",
      "4-->2-->-2-->-4\n",
      "\n",
      "Linked List 2:\n",
      "8-->6-->5-->-3\n",
      "\n",
      "Merged Linked List:\n",
      "4-->8-->2-->6-->-2-->5-->-4-->-3\n",
      "\n"
     ]
    }
   ],
   "source": [
    "def alternate_merge(head1, head2):\n",
    "  m = head1\n",
    "  n = head2\n",
    "  modified_head = Node(None)\n",
    "  z = modified_head\n",
    "  while True:\n",
    "    if m != None:\n",
    "      temp = Node(m.elem)\n",
    "      z.next = temp\n",
    "      z = z.next\n",
    "\n",
    "    if n != None:\n",
    "      temp = Node(n.elem)\n",
    "      z.next = temp\n",
    "      z = z.next\n",
    "    if m == None and n == None:\n",
    "      modified_head = modified_head.next\n",
    "      return modified_head\n",
    "    if m != None:\n",
    "      m = m.next\n",
    "    if n != None:\n",
    "      n = n.next\n",
    "\n",
    "\n",
    "print('==============Test Case 1=============')\n",
    "head1 = createList(np.array([1,2,6,8,11]))\n",
    "head2 = createList(np.array([5,7,3,9,4]))\n",
    "\n",
    "print(\"Linked List 1:\")\n",
    "printLinkedList(head1)\n",
    "print(\"Linked List 2:\")\n",
    "printLinkedList(head2)\n",
    "\n",
    "head = alternate_merge(head1, head2)\n",
    "print(\"Merged Linked List:\")\n",
    "printLinkedList(head)    #This should print    1 --> 5 --> 2 --> 7 --> 6 --> 3 --> 8 --> 9 --> 11 --> 4\n",
    "\n",
    "\n",
    "print('==============Test Case 2=============')\n",
    "head1 = createList(np.array([5, 3, 2, -4]))\n",
    "head2 = createList(np.array([-4, -6, 1]))\n",
    "\n",
    "print(\"Linked List 1:\")\n",
    "printLinkedList(head1)\n",
    "print(\"Linked List 2:\")\n",
    "printLinkedList(head2)\n",
    "\n",
    "head = alternate_merge(head1, head2)\n",
    "print(\"Merged Linked List:\")\n",
    "printLinkedList(head)    #This should print    5 → -4 -> 3 → -6 -> 2 -> 1 -> -4\n",
    "\n",
    "\n",
    "print('==============Test Case 3=============')\n",
    "head1 = createList(np.array([4, 2, -2, -4]))\n",
    "head2 = createList(np.array([8, 6, 5, -3]))\n",
    "\n",
    "print(\"Linked List 1:\")\n",
    "printLinkedList(head1)\n",
    "print(\"Linked List 2:\")\n",
    "printLinkedList(head2)\n",
    "\n",
    "head = alternate_merge(head1, head2)\n",
    "print(\"Merged Linked List:\")\n",
    "printLinkedList(head)    #This should print   4-> 8 → 2-> 6 → -2 → 5 → -4 -> -3\n"
   ]
  },
  {
   "cell_type": "markdown",
   "metadata": {
    "id": "g8b2lKE5o4HE"
   },
   "source": [
    "Task 6: Sum of Nodes"
   ]
  },
  {
   "cell_type": "code",
   "execution_count": 39,
   "metadata": {
    "colab": {
     "base_uri": "https://localhost:8080/"
    },
    "id": "AeUE5H0so6oP",
    "outputId": "76eab9d0-b831-4567-975f-4edb1b9dad16"
   },
   "outputs": [
    {
     "name": "stdout",
     "output_type": "stream",
     "text": [
      "==============Test Case 1=============\n",
      "Sum of Nodes: 4\n",
      "Accepted\n",
      "\n"
     ]
    }
   ],
   "source": [
    "def sum_dist(head, arr):\n",
    "  sum = 0\n",
    "  for _ in range(arr.size):\n",
    "    x = head\n",
    "    idx = arr[_]\n",
    "    i = 0\n",
    "    while True:\n",
    "      if i == idx:\n",
    "        sum = sum + x.elem\n",
    "      i += 1\n",
    "      if x.next == None:\n",
    "        break\n",
    "      x = x.next\n",
    "  return sum\n",
    "\n",
    "\n",
    "\n",
    "print('==============Test Case 1=============')\n",
    "LL1 = createList(np.array([10,16,-5,9,3,4]))\n",
    "dist = np.array([2,0,5,2,8])\n",
    "returned_value = sum_dist(LL1, dist)\n",
    "print(f'Sum of Nodes: {returned_value}') #This should print Sum of Nodes: 4\n",
    "unittest.output_test(returned_value, 4)\n",
    "print()"
   ]
  },
  {
   "cell_type": "markdown",
   "metadata": {
    "id": "pNihvj0mqZGx"
   },
   "source": [
    "Bonus Task: ID Generator"
   ]
  },
  {
   "cell_type": "code",
   "execution_count": 41,
   "metadata": {
    "colab": {
     "base_uri": "https://localhost:8080/"
    },
    "id": "RxtRlCVCqcHV",
    "outputId": "9cd82726-1685-45da-d5c9-ccff4e457d59"
   },
   "outputs": [
    {
     "name": "stdout",
     "output_type": "stream",
     "text": [
      "==============Test Case 1=============\n",
      "Linked List 1:\n",
      "0-->3-->2-->2\n",
      "\n",
      "Linked List 2:\n",
      "5-->2-->2-->1\n",
      "\n",
      "Linked List 3:\n",
      "4-->3-->2-->1\n",
      "\n",
      "2-->2-->3-->0\n",
      "\n",
      "2\n",
      "New ID:\n",
      "2-->2-->3-->0-->9-->5-->4-->2\n",
      "\n",
      "==============Test Case 2=============\n",
      "Linked List 1:\n",
      "0-->3-->9-->1\n",
      "\n",
      "Linked List 2:\n",
      "3-->6-->5-->7\n",
      "\n",
      "Linked List 3:\n",
      "2-->4-->3-->8\n",
      "\n",
      "1-->9-->3-->0\n",
      "\n",
      "1\n",
      "New ID:\n",
      "1-->9-->3-->0-->5-->0-->8-->5\n",
      "\n"
     ]
    }
   ],
   "source": [
    "def idGenerator(head1, head2, head3):\n",
    "  id_head = Node(head1.elem)\n",
    "  tail = id_head\n",
    "  m = head1.next\n",
    "  while m != None:\n",
    "    temp = Node(m.elem)\n",
    "    temp.next = id_head\n",
    "    id_head = temp\n",
    "    m = m.next\n",
    "  printLinkedList(id_head)\n",
    "  print(id_head.elem)\n",
    "  n = head2\n",
    "  o = head3\n",
    "  i = id_head\n",
    "  while n != None and o != None:\n",
    "    sum = n.elem + o.elem\n",
    "    temp = Node(sum%10)\n",
    "    tail.next = temp\n",
    "    tail = tail.next\n",
    "    n = n.next\n",
    "    o = o.next\n",
    "\n",
    "  return id_head\n",
    "\n",
    "\n",
    "\n",
    "\n",
    "\n",
    "print('==============Test Case 1=============')\n",
    "head1 = createList(np.array([0,3,2,2]))\n",
    "head2 = createList(np.array([5,2,2,1]))\n",
    "head3 = createList(np.array([4,3,2,1]))\n",
    "\n",
    "print(\"Linked List 1:\")\n",
    "printLinkedList(head1)\n",
    "print(\"Linked List 2:\")\n",
    "printLinkedList(head2)\n",
    "print(\"Linked List 3:\")\n",
    "printLinkedList(head3)\n",
    "\n",
    "result = idGenerator(head1, head2, head3)\n",
    "print(\"New ID:\")\n",
    "printLinkedList(result)    #This should print  2 → 2 → 3 → 0 → 9 → 5 → 4 → 2\n",
    "\n",
    "\n",
    "print('==============Test Case 2=============')\n",
    "head1 = createList(np.array([0,3,9,1]))\n",
    "head2 = createList(np.array([3,6,5,7]))\n",
    "head3 = createList(np.array([2,4,3,8]))\n",
    "\n",
    "print(\"Linked List 1:\")\n",
    "printLinkedList(head1)\n",
    "print(\"Linked List 2:\")\n",
    "printLinkedList(head2)\n",
    "print(\"Linked List 3:\")\n",
    "printLinkedList(head3)\n",
    "\n",
    "result = idGenerator(head1, head2, head3)\n",
    "print(\"New ID:\")\n",
    "printLinkedList(result)    #This should print 1 → 9 → 3 → 0 → 5 → 0 → 8 → 5"
   ]
  }
 ],
 "metadata": {
  "colab": {
   "provenance": []
  },
  "kernelspec": {
   "display_name": "Python 3",
   "name": "python3"
  },
  "language_info": {
   "codemirror_mode": {
    "name": "ipython",
    "version": 3
   },
   "file_extension": ".py",
   "mimetype": "text/x-python",
   "name": "python",
   "nbconvert_exporter": "python",
   "pygments_lexer": "ipython3",
   "version": "3.12.0"
  }
 },
 "nbformat": 4,
 "nbformat_minor": 0
}
