{
 "cells": [
  {
   "cell_type": "markdown",
   "metadata": {
    "id": "YLpnDfK4egmI"
   },
   "source": [
    "**Instructions to Follow (Failing to follow these will result mark deductions).**\n",
    "1. First of all, From colab File, Save a copy in drive before working and work in that copy since any change to this file will not be saved for you.\n",
    "2. You can not use any built-in function except len()\n",
    "\n",
    "3. You can not use any other python collections except array (e.g: tuple, dictionaries etc.).\n",
    "\n",
    "4. We will initialize a new array using numpy library. We have to mention the fixed size during initialization. There might be 4 approaches.\n",
    "\n",
    " i. arr = np.array([None] * 10) #Initializing an array length 10 with values None.\n",
    "\n",
    " ii. arr = np.array([0] * 10) #Initializing an array length 10 with values zero.\n",
    "\n",
    " iii. arr = np.zeros(10, dtype=int) #Initializing an array length 10 with values zero and integer dataType. By default, dtype is float.\n",
    "\n",
    " iv. arr = np.array([10, 20, 30, 40]) #Initializing an array length 4 with the values.\n",
    "\n"
   ]
  },
  {
   "cell_type": "code",
   "execution_count": 4,
   "metadata": {
    "colab": {
     "base_uri": "https://localhost:8080/"
    },
    "id": "rSkZFFD4ej5o",
    "outputId": "288e077e-46ac-4705-e7d5-9a382baa43ca"
   },
   "outputs": [
    {
     "name": "stdout",
     "output_type": "stream",
     "text": [
      "Defaulting to user installation because normal site-packages is not writeable\n",
      "Requirement already satisfied: fhm-unittest in c:\\users\\user\\appdata\\roaming\\python\\python312\\site-packages (1.0.1)\n"
     ]
    },
    {
     "name": "stderr",
     "output_type": "stream",
     "text": [
      "\n",
      "[notice] A new release of pip is available: 23.2.1 -> 24.3.1\n",
      "[notice] To update, run: python.exe -m pip install --upgrade pip\n"
     ]
    },
    {
     "name": "stdout",
     "output_type": "stream",
     "text": [
      "Defaulting to user installation because normal site-packages is not writeable\n",
      "Requirement already satisfied: fuzzywuzzy in c:\\users\\user\\appdata\\roaming\\python\\python312\\site-packages (0.18.0)\n"
     ]
    },
    {
     "name": "stderr",
     "output_type": "stream",
     "text": [
      "\n",
      "[notice] A new release of pip is available: 23.2.1 -> 24.3.1\n",
      "[notice] To update, run: python.exe -m pip install --upgrade pip\n"
     ]
    }
   ],
   "source": [
    "# You must run this cell to install dependency\n",
    "! pip3 install fhm-unittest\n",
    "! pip3 install fuzzywuzzy\n",
    "import fhm_unittest as unittest\n",
    "import numpy as np"
   ]
  },
  {
   "cell_type": "markdown",
   "metadata": {
    "id": "z-BkkdfjgR6P"
   },
   "source": [
    "You will see the status Accepted after completion if your code is correct.\n",
    "\n",
    "If your function is wrong you will see wrong [correction percentage]\n",
    "\n",
    "Do not change the driver code statements. You can only change the input values to test your code."
   ]
  },
  {
   "cell_type": "code",
   "execution_count": 5,
   "metadata": {
    "id": "fknrEodfUb5M"
   },
   "outputs": [],
   "source": [
    "#You must run this cell to print matrix and for the driver code to work\n",
    "def print_matrix(m):\n",
    "  row,col = m.shape\n",
    "  for i in range(row):\n",
    "    c = 1\n",
    "    print('|', end='')\n",
    "    for j in range(col):\n",
    "      c += 1\n",
    "      if(len(str(m[i][j])) == 1):\n",
    "        print(' ',m[i][j], end = '  |')\n",
    "        c += 6\n",
    "      else:\n",
    "        print(' ',m[i][j], end = ' |')\n",
    "        c += 6\n",
    "    print()\n",
    "    print('-'*(c-col))"
   ]
  },
  {
   "cell_type": "code",
   "execution_count": 6,
   "metadata": {
    "colab": {
     "base_uri": "https://localhost:8080/"
    },
    "id": "ZVbY0rzKgRgC",
    "outputId": "a4bb0e29-67c8-47fb-e10b-1a4088eceff2"
   },
   "outputs": [
    {
     "name": "stdout",
     "output_type": "stream",
     "text": [
      "///  Task 01: Merge Lineup  ///\n",
      "Task 1: [12  3 28 -8  5]\n",
      "Accepted\n",
      "Task 1: [ 4 17  6 27  2]\n",
      "Accepted\n"
     ]
    }
   ],
   "source": [
    "#Task 01: Merge Lineup\n",
    "\n",
    "def mergeLineup(pokemon_1, pokemon_2):\n",
    "  pokemon_mergeLineup = np.zeros(pokemon_1.size, dtype = int)\n",
    "  i = 0\n",
    "  j = pokemon_2.size-1\n",
    "\n",
    "  while i < pokemon_1.size:\n",
    "      if pokemon_1[i] == None:\n",
    "          pokemon_1[i] = 0\n",
    "      if pokemon_2[j] == None:\n",
    "          pokemon_2[j] = 0\n",
    "      pokemon_mergeLineup[i] = pokemon_1[i] + pokemon_2[j]\n",
    "      i += 1\n",
    "      j -= 1\n",
    "  return pokemon_mergeLineup\n",
    "\n",
    "print(\"///  Task 01: Merge Lineup  ///\")\n",
    "pokemon_1 = np.array([12, 3, 25, 1, None])\n",
    "pokemon_2 = np.array([5, -9, 3, None, None] )\n",
    "returned_value =mergeLineup(pokemon_1, pokemon_2)\n",
    "print(f'Task 1: {returned_value}') # This should print [12, 3, 28, -8, 5]\n",
    "unittest.output_test(returned_value, np.array([12, 3, 28, -8, 5]))\n",
    "pokemon_1 = np.array([4, 5, -1, None, None])\n",
    "pokemon_2 = np.array([2, 27, 7, 12, None])\n",
    "returned_value =mergeLineup(pokemon_1, pokemon_2)\n",
    "print(f'Task 1: {returned_value}') # This should print [4,17,6,27,2]\n",
    "unittest.output_test(returned_value, np.array([4,17,6,27,2]))"
   ]
  },
  {
   "cell_type": "code",
   "execution_count": 7,
   "metadata": {
    "colab": {
     "base_uri": "https://localhost:8080/"
    },
    "id": "rzaysRSshRbM",
    "outputId": "e769fbfb-169c-40fc-c6ea-9815d105af18"
   },
   "outputs": [
    {
     "name": "stdout",
     "output_type": "stream",
     "text": [
      "///  Task 02: Discard Cards  ///\n",
      "Task 2: [1 3 7 5 2 2 0 0 0]\n",
      "Accepted\n",
      "Task 2: [5 0 0 0 0]\n",
      "Accepted\n"
     ]
    }
   ],
   "source": [
    "# Task 02: Discard Cards\n",
    "\n",
    "def discardCards(cards, t):\n",
    "    new = np.zeros(cards.size, dtype = int)\n",
    "    i = 0\n",
    "    j = 0\n",
    "    oddeven = 0\n",
    "    while i < cards.size:\n",
    "        if cards[i] == t:\n",
    "            oddeven += 1\n",
    "            if oddeven % 2 == 0:\n",
    "                new[j] = cards[i]\n",
    "                j += 1\n",
    "\n",
    "        else:\n",
    "            new[j] = cards[i]\n",
    "            j += 1\n",
    "\n",
    "        i += 1\n",
    "\n",
    "    return new\n",
    "\n",
    "\n",
    "\n",
    "print(\"///  Task 02: Discard Cards  ///\")\n",
    "cards = np.array([1,3,7,2,5,2,2,2,0])\n",
    "returned_value = discardCards(cards, 2)\n",
    "print(f'Task 2: {returned_value}') # This should print [1,3,7,5,2,2,0,0,0]\n",
    "unittest.output_test(returned_value, np.array([1,3,7,5,2,2,0,0,0]))\n",
    "\n",
    "cards = np.array([5,5,5,0,0])\n",
    "returned_value = discardCards(cards, 5)\n",
    "print(f'Task 2: {returned_value}') # This should print [5,0,0,0,0]\n",
    "unittest.output_test(returned_value, np.array([5,0,0,0,0]))"
   ]
  },
  {
   "cell_type": "code",
   "execution_count": 8,
   "metadata": {
    "colab": {
     "base_uri": "https://localhost:8080/"
    },
    "id": "mxufE5rfVEJM",
    "outputId": "26108c8e-937a-4727-fb4c-2091600a6814"
   },
   "outputs": [
    {
     "name": "stdout",
     "output_type": "stream",
     "text": [
      "[-13   1]\n"
     ]
    }
   ],
   "source": [
    "#Task 03: Decryption Process\n",
    "\n",
    "def decrypt_matrix(matrix):\n",
    "    new = np.zeros(matrix[0].size, dtype = int)\n",
    "    row, column = matrix.shape\n",
    "\n",
    "    for i in range(column):\n",
    "        sum = 0\n",
    "        for j in range(row):\n",
    "            sum += matrix[j][i]\n",
    "        new[i] = sum\n",
    "    decrypted = np.zeros(matrix[0].size-1, dtype = int)\n",
    "\n",
    "    for k in range(new.size - 1):\n",
    "        decrypted[k] = new[k+1] - new[k]\n",
    "\n",
    "    return decrypted\n",
    "\n",
    "matrix=np.array([[1,3,1],\n",
    "                 [6,4,2],\n",
    "                 [5,1,7],\n",
    "                 [9,3,3],\n",
    "                 [8,5,4]\n",
    "                 ])\n",
    "\n",
    "returned_array=decrypt_matrix(matrix)\n",
    "print(returned_array)\n",
    "#This should print [-13, 1]"
   ]
  },
  {
   "cell_type": "code",
   "execution_count": 9,
   "metadata": {
    "colab": {
     "base_uri": "https://localhost:8080/"
    },
    "id": "CYtNF5M8itbB",
    "outputId": "023aaeec-e39e-4a08-df9f-f0b096fcf975"
   },
   "outputs": [
    {
     "name": "stdout",
     "output_type": "stream",
     "text": [
      "|  3  |  8  |  4  |  6  |  1  |\n",
      "-------------------------------\n",
      "|  7  |  2  |  1  |  9  |  3  |\n",
      "-------------------------------\n",
      "|  9  |  0  |  7  |  5  |  8  |\n",
      "-------------------------------\n",
      "|  2  |  1  |  3  |  4  |  0  |\n",
      "-------------------------------\n",
      "|  1  |  4  |  2  |  8  |  6  |\n",
      "-------------------------------\n",
      "Walking Sequence:\n",
      "3 9 1 \n",
      "1 2 \n",
      "4 7 2 \n",
      "4 9 \n",
      "1 8 6 \n",
      "################\n",
      "|  3  |  8  |  4  |  6  |  1  |\n",
      "-------------------------------\n",
      "|  7  |  2  |  1  |  9  |  3  |\n",
      "-------------------------------\n",
      "|  9  |  0  |  7  |  5  |  8  |\n",
      "-------------------------------\n",
      "|  2  |  1  |  3  |  4  |  0  |\n",
      "-------------------------------\n",
      "Walking Sequence:\n",
      "3 9 \n",
      "1 2 \n",
      "4 7 \n",
      "4 9 \n",
      "1 8 \n"
     ]
    }
   ],
   "source": [
    "# Task 04: Zigzag Walk\n",
    "\n",
    "def walk_zigzag(floor):\n",
    "    sum = 0\n",
    "    row, column = floor.shape\n",
    "    for i in range(column):\n",
    "        for j in range(row):\n",
    "            if i % 2 == 0:\n",
    "                if j % 2 == 0:\n",
    "                    print(floor[j][i], end= \" \")\n",
    "            else:\n",
    "                j = row - j - 1\n",
    "                if j % 2 != 0:\n",
    "                    print(floor[j][i], end = \" \")\n",
    "        print()\n",
    "\n",
    "\n",
    "floor = np.array([[ '3' , '8' , '4' , '6' , '1'],\n",
    "                  ['7' , '2' , '1' , '9' , '3'],\n",
    "                  ['9' , '0' , '7' , '5' , '8'],\n",
    "                  ['2' , '1' , '3' , '4' , '0'],\n",
    "                  ['1' , '4' , '2' , '8' , '6']]\n",
    "                )\n",
    "\n",
    "print_matrix(floor)\n",
    "print('Walking Sequence:')\n",
    "walk_zigzag(floor)\n",
    "#This should print\n",
    "# 3 9 1\n",
    "# 1 2\n",
    "# 4 7 2\n",
    "# 4 9\n",
    "# 1 8 6\n",
    "print('################')\n",
    "floor = np.array([[ '3' , '8' , '4' , '6' , '1'],\n",
    "                  ['7' , '2' , '1' , '9' , '3'],\n",
    "                  ['9' , '0' , '7' , '5' , '8'],\n",
    "                  ['2' , '1' , '3' , '4' , '0']]\n",
    "                )\n",
    "\n",
    "print_matrix(floor)\n",
    "print('Walking Sequence:')\n",
    "walk_zigzag(floor)\n",
    "#This should print\n",
    "# 3 9\n",
    "# 1 2\n",
    "# 4 7\n",
    "# 4 9\n",
    "# 1 8"
   ]
  },
  {
   "cell_type": "code",
   "execution_count": 10,
   "metadata": {
    "colab": {
     "base_uri": "https://localhost:8080/"
    },
    "id": "SzBe-ByVmV8G",
    "outputId": "96fe05b9-f220-44e2-cfe4-d90a3d4a2599"
   },
   "outputs": [
    {
     "name": "stdout",
     "output_type": "stream",
     "text": [
      "|  A  |  B  |  C  |  D  |  E  |\n",
      "-------------------------------\n",
      "|  F  |  G  |  H  |  I  |  J  |\n",
      "-------------------------------\n",
      "|  K  |  L  |  M  |  N  |  O  |\n",
      "-------------------------------\n",
      "|  P  |  Q  |  R  |  S  |  T  |\n",
      "-------------------------------\n",
      "|  U  |  V  |  W  |  X  |  Y  |\n",
      "-------------------------------\n",
      "|  Z  |  AA |  BB |  CC |  DD |\n",
      "-------------------------------\n",
      "\n",
      "|  U  |  V  |  W  |  X  |  Y  |\n",
      "-------------------------------\n",
      "|  Z  |  AA |  BB |  CC |  DD |\n",
      "-------------------------------\n",
      "|  A  |  B  |  C  |  D  |  E  |\n",
      "-------------------------------\n",
      "|  F  |  G  |  H  |  I  |  J  |\n",
      "-------------------------------\n",
      "|  K  |  L  |  M  |  N  |  O  |\n",
      "-------------------------------\n",
      "|  P  |  Q  |  R  |  S  |  T  |\n",
      "-------------------------------\n",
      "Your friend AA will be on row 2\n"
     ]
    }
   ],
   "source": [
    "# Task 05: Row Rotation Policy of BRACU Classroom\n",
    "def right_shift(exam_week, seat_status):\n",
    "    i = 0\n",
    "    while i < exam_week - 1:\n",
    "        row, column = seat_status.shape\n",
    "        temp = np.copy(seat_status[row-1])\n",
    "        for k in range(row-1, 0, -1):\n",
    "            seat_status[k] = seat_status[k-1]\n",
    "        seat_status[0] = temp\n",
    "        i += 1\n",
    "    return seat_status\n",
    "\n",
    "def row_rotation(exam_week, seat_status):\n",
    "    row, column = seat_status.shape\n",
    "    rowww = None\n",
    "    for i in range(row):\n",
    "        for j in range(column):\n",
    "            if seat_status[i][j] == \"AA\":\n",
    "                rowww = i\n",
    "                break\n",
    "    seat = (rowww + exam_week) % row\n",
    "    if seat == 0:\n",
    "        seat = row\n",
    "    seat_status = right_shift(exam_week, seat_status)\n",
    "    print_matrix(seat_status)\n",
    "    return seat\n",
    "\n",
    "\n",
    "seat_status = np.array([\n",
    "\n",
    "                  [ 'A' , 'B' , 'C' , 'D' , 'E'],\n",
    "                  ['F' , 'G' , 'H' , 'I' , 'J'],\n",
    "                  ['K' , 'L' , 'M' , 'N' , 'O'],\n",
    "                  ['P' , 'Q' , 'R' , 'S' , 'T'],\n",
    "                  ['U' , 'V' , 'W' , 'X' , 'Y'],\n",
    "                  ['Z' , 'AA' , 'BB' , 'CC' , 'DD']\n",
    "\n",
    "                  ])\n",
    "exam_week=3\n",
    "print_matrix(seat_status)\n",
    "print()\n",
    "row_number=row_rotation(exam_week, seat_status) #This should print modified seat status after rotation\n",
    "print(f'Your friend AA will be on row {row_number}') #This should print Your friend AA will be on row 2"
   ]
  },
  {
   "cell_type": "code",
   "execution_count": 11,
   "metadata": {
    "colab": {
     "base_uri": "https://localhost:8080/"
    },
    "id": "Oi7AXojBEayT",
    "outputId": "8b36f6c0-e162-4921-9603-6fcda9e9d1ae"
   },
   "outputs": [
    {
     "name": "stdout",
     "output_type": "stream",
     "text": [
      "|  1  |  2  |  3  |  4  |\n",
      "-------------------------\n",
      "|  5  |  6  |  7  |  8  |\n",
      "-------------------------\n",
      "|  1  |  3  |  5  |  2  |\n",
      "-------------------------\n",
      "|  -2 |  0  |  6  |  -3 |\n",
      "-------------------------\n",
      "...............\n",
      "|  14 |  22 |\n",
      "-------------\n",
      "|  2  |  10 |\n",
      "-------------\n"
     ]
    }
   ],
   "source": [
    "#Task 06: Matrix Compression\n",
    "def compress_matrix(mat):\n",
    "    row, column = mat.shape\n",
    "    new = np.zeros(shape  = (row//2, column //2), dtype = int)\n",
    "    k, l = 0, 0\n",
    "    for i in range(0, row, 2):\n",
    "        sum = 0\n",
    "        for j in range(0, column, 2):\n",
    "            sum = mat[i][j] + mat[i+1][j] + mat[i][j+1] + mat[i+1][j+1]\n",
    "            new[k][l] = sum\n",
    "            r, c = new.shape\n",
    "            l += 1\n",
    "            if l == c:\n",
    "                l = 0\n",
    "                k += 1\n",
    "    return new\n",
    "\n",
    "matrix=np.array([[1,2,3,4],\n",
    "                 [5,6,7,8],\n",
    "                 [1,3,5,2],\n",
    "                 [-2,0,6,-3]\n",
    "                 ])\n",
    "print_matrix(matrix)\n",
    "print(\"...............\")\n",
    "returned_array=compress_matrix(matrix)\n",
    "print_matrix(returned_array)\n",
    "#This should print\n",
    "\n",
    "#|  14  |  22 |\n",
    "#--------------\n",
    "#|  2  |  10  |\n",
    "#--------------"
   ]
  },
  {
   "cell_type": "code",
   "execution_count": 12,
   "metadata": {
    "colab": {
     "base_uri": "https://localhost:8080/"
    },
    "id": "sTJ7GNezm6uu",
    "outputId": "9be781e2-2bdd-4694-86c5-76b9b0a8956b"
   },
   "outputs": [
    {
     "name": "stdout",
     "output_type": "stream",
     "text": [
      "|  0  |  2  |  2  |  0  |\n",
      "-------------------------\n",
      "|  50 |  1  |  2  |  0  |\n",
      "-------------------------\n",
      "|  2  |  2  |  2  |  0  |\n",
      "-------------------------\n",
      "|  1  |  100 |  2  |  0  |\n",
      "-------------------------\n",
      "Points Gained: 6. Your team is out.\n",
      ".....................\n",
      "|  0  |  2  |  2  |  0  |  2  |\n",
      "-------------------------------\n",
      "|  1  |  50 |  2  |  1  |  100 |\n",
      "-------------------------------\n",
      "|  2  |  2  |  2  |  0  |  2  |\n",
      "-------------------------------\n",
      "|  0  |  200 |  2  |  0  |  0  |\n",
      "-------------------------------\n",
      "Points Gained: 14. Your team has survived the game.\n"
     ]
    }
   ],
   "source": [
    "#Task 07: Game Arena\n",
    "def play_game(arena):\n",
    "  row, column = arena.shape\n",
    "  score = 0\n",
    "  for i in range(row):\n",
    "    for j in range(column):\n",
    "      if arena[i][j] % 50 == 0 and arena[i][j] != 0:\n",
    "        if j-1 >= 0:\n",
    "          if arena[i][j-1] == 2:\n",
    "            score += 2\n",
    "\n",
    "        if j + 1 < column:\n",
    "          if arena[i][j+1] == 2:\n",
    "            score += 2\n",
    "\n",
    "        if i - 1 >= 0:\n",
    "          if arena[i-1][j] == 2:\n",
    "            score += 2\n",
    "\n",
    "        if i + 1 < row:\n",
    "          if arena[i+1][j] == 2:\n",
    "            score += 2\n",
    "\n",
    "\n",
    "  if score >= 10:\n",
    "    print(f\"Points Gained: {score}. Your team has survived the game.\")\n",
    "\n",
    "  else:\n",
    "    print(f\"Points Gained: {score}. Your team is out.\")\n",
    "arena=np.array([[0,2,2,0],\n",
    "                [50,1,2,0],\n",
    "                [2,2,2,0],\n",
    "                [1,100,2,0]\n",
    "                ])\n",
    "print_matrix(arena)\n",
    "play_game(arena)\n",
    "#This should print\n",
    "#Points Gained: 6. Your team is out.\n",
    "\n",
    "print(\".....................\")\n",
    "arena=np.array([[0,2,2,0,2],\n",
    "                [1,50,2,1,100],\n",
    "                [2,2,2,0,2],\n",
    "                [0,200,2,0,0]\n",
    "                ])\n",
    "print_matrix(arena)\n",
    "play_game(arena)\n",
    "#This should print\n",
    "#Points Gained: 14. Your team has survived the game."
   ]
  }
 ],
 "metadata": {
  "colab": {
   "provenance": []
  },
  "kernelspec": {
   "display_name": "Python 3",
   "name": "python3"
  },
  "language_info": {
   "codemirror_mode": {
    "name": "ipython",
    "version": 3
   },
   "file_extension": ".py",
   "mimetype": "text/x-python",
   "name": "python",
   "nbconvert_exporter": "python",
   "pygments_lexer": "ipython3",
   "version": "3.12.0"
  }
 },
 "nbformat": 4,
 "nbformat_minor": 0
}
